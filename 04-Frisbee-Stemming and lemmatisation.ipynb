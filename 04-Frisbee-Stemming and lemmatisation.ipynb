{
 "cells": [
  {
   "cell_type": "markdown",
   "metadata": {},
   "source": [
    "So far we have tidied up our text and split it into smaller chunks. But to start to process it there are a number of further tasks we might want to do. For statistical analysis we might want to remove many of the joining and most used words as these may skew results. We might also want to try and reduce words down to a more basic form.\n",
    "\n",
    "This is where things get interesting - and tricky!\n",
    "\n",
    "\n",
    "Lets take the example of Stemming - the process of reducing inflected (or sometimes derived) words to their word stem, base or root form. For example argue, argued, argues, arguing reduce to the stem argu. Usually stemming is a crude heuristic process that chops off the ends of words in the hope of achieving the root correctly most of the time. Lemmatisation aims to do this using vocabulary and morphological analysis of words, normally aiming to remove inflectional endings only and to return the base or dictionary form of a word, which is known as the lemma. \n",
    "\n",
    "If confronted with the token saw, stemming might return just s, whereas lemmatization would attempt to return either see or saw depending on whether the use of the token was as a verb or a noun. \n",
    "\n",
    "Now we could start to build our own functions here, using rules such as\n",
    "* if the word ends in 'ed', remove the 'ed'\n",
    "* if the word ends in 'ing', remove the 'ing'\n",
    "* if the word ends in 'ly', remove the 'ly'\n",
    "This might work for stemming but lemmatising is a far more complex challenge. \n",
    "\n",
    "But there is good news - someone has already done all the hard work for us!\n",
    "\n",
    "Using existing libraries like nltk we can perform stemming and lemmatising quickly and easily.\n"
   ]
  }
 ],
 "metadata": {
  "kernelspec": {
   "display_name": "Python 3",
   "language": "python",
   "name": "python3"
  },
  "language_info": {
   "codemirror_mode": {
    "name": "ipython",
    "version": 3
   },
   "file_extension": ".py",
   "mimetype": "text/x-python",
   "name": "python",
   "nbconvert_exporter": "python",
   "pygments_lexer": "ipython3",
   "version": "3.6.6"
  }
 },
 "nbformat": 4,
 "nbformat_minor": 2
}
