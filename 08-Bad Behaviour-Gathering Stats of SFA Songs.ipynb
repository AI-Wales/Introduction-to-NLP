{
 "cells": [
  {
   "cell_type": "markdown",
   "metadata": {
    "collapsed": true
   },
   "source": [
    "# Lets explore the lyrics of the SFA songs and albums "
   ]
  },
  {
   "cell_type": "code",
   "execution_count": 1,
   "metadata": {},
   "outputs": [],
   "source": [
    "import pandas as pd\n",
    "import string"
   ]
  },
  {
   "cell_type": "markdown",
   "metadata": {},
   "source": [
    "Lets read in the data and use Pandas to get a summary"
   ]
  },
  {
   "cell_type": "code",
   "execution_count": 6,
   "metadata": {},
   "outputs": [
    {
     "data": {
      "text/html": [
       "<div>\n",
       "<style scoped>\n",
       "    .dataframe tbody tr th:only-of-type {\n",
       "        vertical-align: middle;\n",
       "    }\n",
       "\n",
       "    .dataframe tbody tr th {\n",
       "        vertical-align: top;\n",
       "    }\n",
       "\n",
       "    .dataframe thead th {\n",
       "        text-align: right;\n",
       "    }\n",
       "</style>\n",
       "<table border=\"1\" class=\"dataframe\">\n",
       "  <thead>\n",
       "    <tr style=\"text-align: right;\">\n",
       "      <th></th>\n",
       "      <th>lyrics</th>\n",
       "      <th>title</th>\n",
       "      <th>lyrics_no_newline</th>\n",
       "    </tr>\n",
       "    <tr>\n",
       "      <th>album</th>\n",
       "      <th></th>\n",
       "      <th></th>\n",
       "      <th></th>\n",
       "    </tr>\n",
       "  </thead>\n",
       "  <tbody>\n",
       "    <tr>\n",
       "      <th>Dark Days/Light Years</th>\n",
       "      <td>10</td>\n",
       "      <td>10</td>\n",
       "      <td>10</td>\n",
       "    </tr>\n",
       "    <tr>\n",
       "      <th>Fuzzy Logic</th>\n",
       "      <td>12</td>\n",
       "      <td>12</td>\n",
       "      <td>12</td>\n",
       "    </tr>\n",
       "    <tr>\n",
       "      <th>Guerilla</th>\n",
       "      <td>11</td>\n",
       "      <td>11</td>\n",
       "      <td>11</td>\n",
       "    </tr>\n",
       "    <tr>\n",
       "      <th>Hey! Venus</th>\n",
       "      <td>6</td>\n",
       "      <td>6</td>\n",
       "      <td>6</td>\n",
       "    </tr>\n",
       "    <tr>\n",
       "      <th>Love Kraft</th>\n",
       "      <td>11</td>\n",
       "      <td>11</td>\n",
       "      <td>11</td>\n",
       "    </tr>\n",
       "    <tr>\n",
       "      <th>Phantom Power</th>\n",
       "      <td>12</td>\n",
       "      <td>12</td>\n",
       "      <td>12</td>\n",
       "    </tr>\n",
       "    <tr>\n",
       "      <th>Radiator</th>\n",
       "      <td>10</td>\n",
       "      <td>10</td>\n",
       "      <td>10</td>\n",
       "    </tr>\n",
       "    <tr>\n",
       "      <th>Rings around the World</th>\n",
       "      <td>11</td>\n",
       "      <td>11</td>\n",
       "      <td>11</td>\n",
       "    </tr>\n",
       "  </tbody>\n",
       "</table>\n",
       "</div>"
      ],
      "text/plain": [
       "                        lyrics  title  lyrics_no_newline\n",
       "album                                                   \n",
       "Dark Days/Light Years       10     10                 10\n",
       "Fuzzy Logic                 12     12                 12\n",
       "Guerilla                    11     11                 11\n",
       "Hey! Venus                   6      6                  6\n",
       "Love Kraft                  11     11                 11\n",
       "Phantom Power               12     12                 12\n",
       "Radiator                    10     10                 10\n",
       "Rings around the World      11     11                 11"
      ]
     },
     "execution_count": 6,
     "metadata": {},
     "output_type": "execute_result"
    }
   ],
   "source": [
    "lyrics = pd.read_csv(\"data/SFALyrics.csv\", dtype=str)\n",
    "lyrics = lyrics[['lyrics', 'title', 'album']]\n",
    "lyrics = lyrics[pd.notnull(lyrics['title'])]\n",
    "lyrics['lyrics_no_newline'] = lyrics['lyrics'].replace('\\n',' ', regex=True)\n",
    "lyrics.loc[lyrics['album'] == 'Dark Day/Light Years', 'album'] = 'Dark Days/Light Years'\n",
    "lyrics.loc[lyrics['album'] == 'Gorilla', 'album'] = 'Guerilla'\n",
    "lyrics.head()\n",
    "\n",
    "lyrics.groupby('album').count()"
   ]
  },
  {
   "cell_type": "markdown",
   "metadata": {},
   "source": [
    "lets create our own functions to remove white space and punctuation, and also find unique words."
   ]
  },
  {
   "cell_type": "code",
   "execution_count": 7,
   "metadata": {},
   "outputs": [],
   "source": [
    "def clean(text):\n",
    "    # split into words by white space\n",
    "    words = str(text).lower().split()\n",
    "    # remove punctuation from each word\n",
    "    table = str.maketrans('', '', string.punctuation)\n",
    "    stripped = [w.translate(table) for w in words]\n",
    "    return stripped\n",
    "\n",
    "def unique_words(text):\n",
    "    unique_words = set()\n",
    "    for word in text:\n",
    "\n",
    "        unique_words.add(word)\n",
    "    return list(unique_words)   "
   ]
  },
  {
   "cell_type": "markdown",
   "metadata": {},
   "source": [
    "Clean the lyrics and get a count of the unique words"
   ]
  },
  {
   "cell_type": "code",
   "execution_count": 8,
   "metadata": {},
   "outputs": [
    {
     "data": {
      "text/html": [
       "<div>\n",
       "<style scoped>\n",
       "    .dataframe tbody tr th:only-of-type {\n",
       "        vertical-align: middle;\n",
       "    }\n",
       "\n",
       "    .dataframe tbody tr th {\n",
       "        vertical-align: top;\n",
       "    }\n",
       "\n",
       "    .dataframe thead th {\n",
       "        text-align: right;\n",
       "    }\n",
       "</style>\n",
       "<table border=\"1\" class=\"dataframe\">\n",
       "  <thead>\n",
       "    <tr style=\"text-align: right;\">\n",
       "      <th></th>\n",
       "      <th>lyrics</th>\n",
       "      <th>title</th>\n",
       "      <th>album</th>\n",
       "      <th>lyrics_no_newline</th>\n",
       "      <th>lyrics_cleaned</th>\n",
       "      <th>unique_words</th>\n",
       "      <th>unique_num</th>\n",
       "    </tr>\n",
       "  </thead>\n",
       "  <tbody>\n",
       "    <tr>\n",
       "      <th>0</th>\n",
       "      <td>I had a soul transplant operation \\nCoz my byp...</td>\n",
       "      <td>God! How me magic</td>\n",
       "      <td>Fuzzy Logic</td>\n",
       "      <td>I had a soul transplant operation  Coz my bypa...</td>\n",
       "      <td>[i, had, a, soul, transplant, operation, coz, ...</td>\n",
       "      <td>[show, your, hamsters, keeping, magic, nice, s...</td>\n",
       "      <td>43</td>\n",
       "    </tr>\n",
       "    <tr>\n",
       "      <th>1</th>\n",
       "      <td>[Bunf:] \\nHamster, turnin' round in your wheel...</td>\n",
       "      <td>Fuzzy Birds</td>\n",
       "      <td>Fuzzy Logic</td>\n",
       "      <td>[Bunf:]  Hamster, turnin' round in your wheel ...</td>\n",
       "      <td>[bunf, hamster, turnin, round, in, your, wheel...</td>\n",
       "      <td>[your, electricity, feelings, turning, wheel, ...</td>\n",
       "      <td>76</td>\n",
       "    </tr>\n",
       "    <tr>\n",
       "      <th>2</th>\n",
       "      <td>First time, I did it for the hell of it \\nStuc...</td>\n",
       "      <td>Something 4 the weekend</td>\n",
       "      <td>Fuzzy Logic</td>\n",
       "      <td>First time, I did it for the hell of it  Stuck...</td>\n",
       "      <td>[first, time, i, did, it, for, the, hell, of, ...</td>\n",
       "      <td>[heard, swallowed, frighten, just, is, were, k...</td>\n",
       "      <td>98</td>\n",
       "    </tr>\n",
       "    <tr>\n",
       "      <th>3</th>\n",
       "      <td>Locked in a sorry dream \\nYou know we're drown...</td>\n",
       "      <td>Frisbee</td>\n",
       "      <td>Fuzzy Logic</td>\n",
       "      <td>Locked in a sorry dream  You know we're drowni...</td>\n",
       "      <td>[locked, in, a, sorry, dream, you, know, were,...</td>\n",
       "      <td>[your, pizzas, sorry, nice, were, cream, is, p...</td>\n",
       "      <td>60</td>\n",
       "    </tr>\n",
       "    <tr>\n",
       "      <th>4</th>\n",
       "      <td>I was lost \\nLost on the bypass road \\nCould b...</td>\n",
       "      <td>Hometown Unicorm</td>\n",
       "      <td>Fuzzy Logic</td>\n",
       "      <td>I was lost  Lost on the bypass road  Could be ...</td>\n",
       "      <td>[i, was, lost, lost, on, the, bypass, road, co...</td>\n",
       "      <td>[turned, frankie, back, return, born, just, be...</td>\n",
       "      <td>47</td>\n",
       "    </tr>\n",
       "  </tbody>\n",
       "</table>\n",
       "</div>"
      ],
      "text/plain": [
       "                                              lyrics                    title  \\\n",
       "0  I had a soul transplant operation \\nCoz my byp...        God! How me magic   \n",
       "1  [Bunf:] \\nHamster, turnin' round in your wheel...              Fuzzy Birds   \n",
       "2  First time, I did it for the hell of it \\nStuc...  Something 4 the weekend   \n",
       "3  Locked in a sorry dream \\nYou know we're drown...                  Frisbee   \n",
       "4  I was lost \\nLost on the bypass road \\nCould b...         Hometown Unicorm   \n",
       "\n",
       "         album                                  lyrics_no_newline  \\\n",
       "0  Fuzzy Logic  I had a soul transplant operation  Coz my bypa...   \n",
       "1  Fuzzy Logic  [Bunf:]  Hamster, turnin' round in your wheel ...   \n",
       "2  Fuzzy Logic  First time, I did it for the hell of it  Stuck...   \n",
       "3  Fuzzy Logic  Locked in a sorry dream  You know we're drowni...   \n",
       "4  Fuzzy Logic  I was lost  Lost on the bypass road  Could be ...   \n",
       "\n",
       "                                      lyrics_cleaned  \\\n",
       "0  [i, had, a, soul, transplant, operation, coz, ...   \n",
       "1  [bunf, hamster, turnin, round, in, your, wheel...   \n",
       "2  [first, time, i, did, it, for, the, hell, of, ...   \n",
       "3  [locked, in, a, sorry, dream, you, know, were,...   \n",
       "4  [i, was, lost, lost, on, the, bypass, road, co...   \n",
       "\n",
       "                                        unique_words  unique_num  \n",
       "0  [show, your, hamsters, keeping, magic, nice, s...          43  \n",
       "1  [your, electricity, feelings, turning, wheel, ...          76  \n",
       "2  [heard, swallowed, frighten, just, is, were, k...          98  \n",
       "3  [your, pizzas, sorry, nice, were, cream, is, p...          60  \n",
       "4  [turned, frankie, back, return, born, just, be...          47  "
      ]
     },
     "execution_count": 8,
     "metadata": {},
     "output_type": "execute_result"
    }
   ],
   "source": [
    "lyrics['lyrics_cleaned'] =  lyrics['lyrics_no_newline'].apply(clean)\n",
    "lyrics['unique_words'] =  lyrics['lyrics_cleaned'].apply(unique_words)\n",
    "lyrics['unique_num'] = lyrics['unique_words'].apply(len)\n",
    "lyrics.head()"
   ]
  },
  {
   "cell_type": "code",
   "execution_count": 5,
   "metadata": {},
   "outputs": [],
   "source": [
    "lyrics.sort_values(by=['unique_num'], ascending=False, inplace=True)"
   ]
  },
  {
   "cell_type": "markdown",
   "metadata": {},
   "source": [
    "Plot the songs with the most and least unique words"
   ]
  },
  {
   "cell_type": "code",
   "execution_count": 6,
   "metadata": {},
   "outputs": [
    {
     "data": {
      "text/plain": [
       "<matplotlib.axes._subplots.AxesSubplot at 0x1a0cecc978>"
      ]
     },
     "execution_count": 6,
     "metadata": {},
     "output_type": "execute_result"
    },
    {
     "data": {
      "image/png": "[encoded data removed]",
      "text/plain": [
       "<matplotlib.figure.Figure at 0x1a0cecc080>"
      ]
     },
     "metadata": {},
     "output_type": "display_data"
    }
   ],
   "source": [
    "%matplotlib inline\n",
    "lyrics.head(20).plot.bar(x='title', y='unique_num', rot=90)"
   ]
  },
  {
   "cell_type": "code",
   "execution_count": 7,
   "metadata": {},
   "outputs": [
    {
     "data": {
      "text/plain": [
       "<matplotlib.axes._subplots.AxesSubplot at 0x1a0cecc1d0>"
      ]
     },
     "execution_count": 7,
     "metadata": {},
     "output_type": "execute_result"
    },
    {
     "data": {
      "image/png": "[encoded data removed]",
      "text/plain": [
       "<matplotlib.figure.Figure at 0x1a0c4f6a20>"
      ]
     },
     "metadata": {},
     "output_type": "display_data"
    }
   ],
   "source": [
    "lyrics.tail(20).plot.bar(x='title', y='unique_num', rot=90)"
   ]
  },
  {
   "cell_type": "markdown",
   "metadata": {},
   "source": [
    "Lets view this as a histogram"
   ]
  },
  {
   "cell_type": "code",
   "execution_count": 8,
   "metadata": {},
   "outputs": [
    {
     "data": {
      "text/plain": [
       "array([[<matplotlib.axes._subplots.AxesSubplot object at 0x1a155bfb70>]],\n",
       "      dtype=object)"
      ]
     },
     "execution_count": 8,
     "metadata": {},
     "output_type": "execute_result"
    },
    {
     "data": {
      "image/png": "[encoded data removed]",
      "text/plain": [
       "<matplotlib.figure.Figure at 0x1a155d6a20>"
      ]
     },
     "metadata": {},
     "output_type": "display_data"
    }
   ],
   "source": [
    "lyrics.hist()"
   ]
  },
  {
   "cell_type": "markdown",
   "metadata": {},
   "source": [
    "Now lets look at the distribution of unique words in a song by album"
   ]
  },
  {
   "cell_type": "code",
   "execution_count": 15,
   "metadata": {},
   "outputs": [
    {
     "data": {
      "text/plain": [
       "[Text(0,0,'Fuzzy Logic'),\n",
       " Text(0,0,'Radiator'),\n",
       " Text(0,0,'Guerilla'),\n",
       " Text(0,0,'Phantom Power'),\n",
       " Text(0,0,'Love Kraft'),\n",
       " Text(0,0,'Hey! Venus'),\n",
       " Text(0,0,'Dark Days/Light Years')]"
      ]
     },
     "execution_count": 15,
     "metadata": {},
     "output_type": "execute_result"
    },
    {
     "data": {
      "image/png": "[encoded data removed]",
      "text/plain": [
       "<Figure size 432x288 with 1 Axes>"
      ]
     },
     "metadata": {},
     "output_type": "display_data"
    }
   ],
   "source": [
    "# Lets add album year so we can order the plot\n",
    "\n",
    "album = ['Dark Days/Light Years','Phantom Power', 'Radiator', 'Love Kraft',' Rings around the World','Guerilla','Fuzzy Logic', 'Hey! Venus']\n",
    "year = [ 2009 , 2003, 1997, 2005, 2001, 1999, 1996, 2007]\n",
    "d = {'album' : album, 'year': year}\n",
    "disc_df = pd.DataFrame(data = d)\n",
    "\n",
    "lyrics_2_df = lyrics.merge(disc_df, on='album').sort_values(by=['year'])\n",
    "\n",
    "# Plotting the distribution of unique lyrics by album\n",
    "\n",
    "import seaborn as sns\n",
    "\n",
    "j = lyrics_2_df[['album', 'title', 'unique_num']]\n",
    "\n",
    "g = sns.boxplot( x=j[\"album\"], y=j[\"unique_num\"])\n",
    "g.set_xticklabels(g.get_xticklabels(), rotation=90)"
   ]
  },
  {
   "cell_type": "code",
   "execution_count": null,
   "metadata": {},
   "outputs": [],
   "source": []
  }
 ],
 "metadata": {
  "kernelspec": {
   "display_name": "Python 3",
   "language": "python",
   "name": "python3"
  },
  "language_info": {
   "codemirror_mode": {
    "name": "ipython",
    "version": 3
   },
   "file_extension": ".py",
   "mimetype": "text/x-python",
   "name": "python",
   "nbconvert_exporter": "python",
   "pygments_lexer": "ipython3",
   "version": "3.6.5"
  }
 },
 "nbformat": 4,
 "nbformat_minor": 2
}
