{
 "cells": [
  {
   "cell_type": "markdown",
   "metadata": {},
   "source": [
    "# Tidying up text using Regular Expressions"
   ]
  },
  {
   "cell_type": "markdown",
   "metadata": {},
   "source": [
    "The first step in processing text is to to tidy up any obvious errors and remove any unwanted spaces, characters etc. This is accomplished in Python using regular expressions. \n",
    "\n",
    "A regular expression is a special sequence of characters that helps you match or find other strings or sets of strings, using a specialized syntax held in a pattern. The module re provides full support for regular expressions in Python. \n",
    "\n",
    "Python offers two different primitive operations based on regular expressions: match checks for a match only at the beginning of the string, while search checks for a match anywhere in the string. See [here](https://www.tutorialspoint.com/python/python_reg_expressions.htm) for details.\n",
    "\n",
    "```re.match(pattern, string, flags=0)```\n",
    "```re.search(pattern, string, flags=0)```\n",
    "\n",
    "There are a number of regular expression patterns to help match specific parts of text. For example: \n",
    "\n",
    "'.' -> Matches any single character except newline\n",
    "\n",
    "'*'  -> Matches 0 or more occurrences of preceding expression\n",
    "\n",
    "'?' -> Matches 0 or 1 occurrence of preceeding expression\n",
    "\n",
    "'+' -> matches 1 or more occurances of preceeding expression\n",
    "\n",
    "'^' -> matched beginning of a line\n",
    "\n",
    "'$' -> matches end of line\n",
    "\n",
    "'\\d' -> matches digits\n",
    "\n",
    "'\\D' -> matches non digits\n",
    "'[a-z]'-> matches any lower case ASCII\n",
    "\n",
    "for example, to find a python style comment:\n",
    "'#.*$' -> match 0 or more occurances of # followed by any character until the end of the line\n",
    "\n",
    "or to find digits\n",
    "'\\d'"
   ]
  },
  {
   "cell_type": "code",
   "execution_count": 21,
   "metadata": {},
   "outputs": [
    {
     "name": "stdout",
     "output_type": "stream",
     "text": [
      "# here is a comment\n",
      "3\n"
     ]
    }
   ],
   "source": [
    "import re\n",
    "\n",
    "t = 'some code 367 # here is a comment'\n",
    "matched = re.search(r'#.*$', t)\n",
    "print(matched.group())\n",
    "\n",
    "matched = re.search(r'\\d', t)\n",
    "print(matched.group())\n"
   ]
  },
  {
   "cell_type": "markdown",
   "metadata": {},
   "source": [
    "#### Challenge: change the regex so we return all the digits:"
   ]
  },
  {
   "cell_type": "code",
   "execution_count": 29,
   "metadata": {},
   "outputs": [
    {
     "name": "stdout",
     "output_type": "stream",
     "text": [
      "3\n"
     ]
    }
   ],
   "source": [
    "t = 'some code 367 # here is a comment'\n",
    "# Change teh regex below to get the 367 from the above text\n",
    "matched = re.search(r'\\d', t)\n",
    "print(matched.group())"
   ]
  },
  {
   "cell_type": "markdown",
   "metadata": {},
   "source": [
    "You can also substitute matched regular expressions. This can be useful, for example if you want to remove excess white spaces in a text string. The basic syntax of sub is as follows:\n",
    "\n",
    "```re.sub(pattern, repl, string, max=0)```\n",
    "\n",
    "We can use the same regex patterns as before. For example:"
   ]
  },
  {
   "cell_type": "code",
   "execution_count": 30,
   "metadata": {},
   "outputs": [
    {
     "name": "stdout",
     "output_type": "stream",
     "text": [
      "Phone Num :  2004-959-559 \n",
      "Phone Num :  2004959559\n"
     ]
    }
   ],
   "source": [
    "phone = \"2004-959-559 # This is Phone Number\"\n",
    "\n",
    "# Delete Python-style comments\n",
    "num = re.sub(r'#.*$', \"\", phone)\n",
    "print(\"Phone Num : \", num)\n",
    "\n",
    "# Remove anything other than digits\n",
    "num = re.sub(r'\\D', \"\", phone)    \n",
    "print(\"Phone Num : \", num)"
   ]
  },
  {
   "cell_type": "raw",
   "metadata": {},
   "source": []
  },
  {
   "cell_type": "markdown",
   "metadata": {},
   "source": [
    "#### Challenge: remove the excess white space , remove any full stops amnd remove the words in brackets from the following text:"
   ]
  },
  {
   "cell_type": "code",
   "execution_count": 48,
   "metadata": {},
   "outputs": [],
   "source": [
    "text = \"\"\"\n",
    "I had a soul transplant operation ,\n",
    "Cause my bypass didn't    function,\n",
    "So  now I'm keeping  on my toes,\n",
    "Till I see your one man show.\n",
    "Show me  magic,\n",
    "Show me magic,\n",
    "Show  me magic,\n",
    "Show me magic.\n",
    "Wouldn't    it be nice  to know,\n",
    "What the paper doesn't show,\n",
    "What  the TV doesn't say,\n",
    "And what my hamster's ate   today.\n",
    "(Show me magic)\n",
    "\"\"\""
   ]
  },
  {
   "cell_type": "code",
   "execution_count": 52,
   "metadata": {},
   "outputs": [
    {
     "name": "stdout",
     "output_type": "stream",
     "text": [
      "\n",
      "I had a soul transplant operation,\n",
      "Cause my bypass didn't function,\n",
      "So now I'm keeping on my toes,\n",
      "Till I see your one man show \n",
      "Show me magic,\n",
      "Show me magic,\n",
      "Show me magic,\n",
      "Show me magic \n",
      "Wouldn't it be nice to know,\n",
      "What the paper doesn't show,\n",
      "What the TV doesn't say,\n",
      "And what my hamster's ate today \n",
      "\n",
      "\n"
     ]
    }
   ],
   "source": [
    "t = re.sub( r'  +', \" \", text)\n",
    "t2 = re.sub( r'\\.', \" \", t)\n",
    "t3 = re.sub( r' ,', \",\", t2)\n",
    "t4 = re.sub(r'\\([^)]*\\)', \"\", t3)\n",
    "print(t4)"
   ]
  },
  {
   "cell_type": "markdown",
   "metadata": {},
   "source": [
    "Regex can be quite powerful - but also a bit tricky and difficult to read at times!"
   ]
  }
 ],
 "metadata": {
  "kernelspec": {
   "display_name": "Python 3",
   "language": "python",
   "name": "python3"
  },
  "language_info": {
   "codemirror_mode": {
    "name": "ipython",
    "version": 3
   },
   "file_extension": ".py",
   "mimetype": "text/x-python",
   "name": "python",
   "nbconvert_exporter": "python",
   "pygments_lexer": "ipython3",
   "version": "3.6.6"
  }
 },
 "nbformat": 4,
 "nbformat_minor": 2
}
